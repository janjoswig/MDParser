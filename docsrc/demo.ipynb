{
 "cells": [
  {
   "cell_type": "code",
   "execution_count": 1,
   "metadata": {},
   "outputs": [],
   "source": [
    "import pathlib\n",
    "\n",
    "from mdparser.topology import GromacsTopologyParser"
   ]
  },
  {
   "cell_type": "code",
   "execution_count": 2,
   "metadata": {},
   "outputs": [],
   "source": [
    "test_dir = pathlib.Path(\"../test/test_parse_topologies\")"
   ]
  },
  {
   "cell_type": "markdown",
   "metadata": {},
   "source": [
    "## Dealing with unknown sections"
   ]
  },
  {
   "cell_type": "code",
   "execution_count": 3,
   "metadata": {},
   "outputs": [
    {
     "name": "stdout",
     "output_type": "stream",
     "text": [
      "Unknown section stub\n"
     ]
    }
   ],
   "source": [
    "parser = GromacsTopologyParser()\n",
    "with open(test_dir / \"unknown_section.top\") as fp:\n",
    "    top = parser.read(fp)"
   ]
  },
  {
   "cell_type": "code",
   "execution_count": 4,
   "metadata": {},
   "outputs": [
    {
     "name": "stdout",
     "output_type": "stream",
     "text": [
      "[ atomtypes ]\n",
      "C0        20  40.08    0.0    A 3.05240e-01 1.92376e+00\n",
      "\n",
      "[ stub ]\n",
      "X 2 rot 3.4\n",
      "\n",
      "[ moleculetype ]\n",
      "Ion     3\n",
      "\n",
      "[ atoms ]\n",
      "1     C0    1     CA    CA    1      2.0000  40.080\n",
      "\n",
      "[ system ]\n",
      "Ion\n",
      "\n",
      "[ molecules ]\n",
      "Ion                  1\n",
      "\n"
     ]
    }
   ],
   "source": [
    "print(top)"
   ]
  }
 ],
 "metadata": {
  "kernelspec": {
   "display_name": "mdparser",
   "language": "python",
   "name": "python3"
  },
  "language_info": {
   "codemirror_mode": {
    "name": "ipython",
    "version": 3
   },
   "file_extension": ".py",
   "mimetype": "text/x-python",
   "name": "python",
   "nbconvert_exporter": "python",
   "pygments_lexer": "ipython3",
   "version": "3.10.16"
  }
 },
 "nbformat": 4,
 "nbformat_minor": 2
}
